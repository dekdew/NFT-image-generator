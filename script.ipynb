{
 "cells": [
  {
   "cell_type": "code",
   "execution_count": 1,
   "source": [
    "from PIL import Image, ImageDraw\n",
    "from IPython.display import display\n",
    "import random\n",
    "import json\n",
    "import numpy as np\n"
   ],
   "outputs": [],
   "metadata": {}
  },
  {
   "cell_type": "code",
   "execution_count": 2,
   "source": [
    "# Each image is made up a series of traits\n",
    "# The weightings for each trait drive the rarity and add up to 100%\n",
    "\n",
    "background = [\"Blue\", \"Orange\"] \n",
    "background_weights = [30, 70]\n",
    "\n",
    "body = [\"giraffe\", \"tiger\", \"monkey\", \"rhino\", \"elephant\", \"koala\"] \n",
    "body_weights = [10, 15, 40, 20, 5, 10]\n",
    "\n",
    "head = [\"giraffe\", \"tiger\", \"monkey\", \"rhino\", \"elephant\", \"koala\"] \n",
    "head_weights = [40, 5, 20, 10, 10, 15]\n",
    "\n",
    "face = [\"giraffe\", \"tiger\", \"monkey\", \"rhino\", \"elephant\", \"koala\"] \n",
    "face_weights = [5, 10, 25, 30, 10, 20]\n",
    "\n",
    "# Dictionary variable for each trait. \n",
    "# Eech trait corresponds to its file name\n",
    "# Add more shapes and colours as you wish\n",
    "\n",
    "background_files = {\n",
    "    \"Blue\": \"blue\",\n",
    "    \"Orange\": \"orange\",\n",
    "}\n",
    "\n",
    "body_files = {\n",
    "    \"giraffe\":\"body_giraffe\",\n",
    "    \"tiger\":\"body_tiger\",\n",
    "    \"monkey\":\"body_monkey\",\n",
    "    \"rhino\":\"body_rhino\",\n",
    "    \"elephant\":\"body_elephant\",\n",
    "    \"koala\":\"body_koala\",\n",
    "}\n",
    "\n",
    "head_files = {\n",
    "    \"giraffe\":\"head_giraffe\",\n",
    "    \"tiger\":\"head_tiger\",\n",
    "    \"monkey\":\"head_monkey\",\n",
    "    \"rhino\":\"head_rhino\",\n",
    "    \"elephant\":\"head_elephant\",\n",
    "    \"koala\":\"head_koala\",\n",
    "}\n",
    "\n",
    "face_files = {\n",
    "    \"giraffe\":\"face_giraffe\",\n",
    "    \"tiger\":\"face_tiger\",\n",
    "    \"monkey\":\"face_monkey\",\n",
    "    \"rhino\":\"face_rhino\",\n",
    "    \"elephant\":\"face_elephant\",\n",
    "    \"koala\":\"face_koala\",\n",
    "}"
   ],
   "outputs": [],
   "metadata": {}
  },
  {
   "cell_type": "code",
   "execution_count": 3,
   "source": [
    "TOTAL_IMAGES = 100 # Number of random unique images we want to generate ( 2 x 2 x 2 = 8)\n",
    "\n",
    "all_images = [] \n",
    "\n",
    "def create_new_image():\n",
    "\n",
    "    new_image = {} #\n",
    "\n",
    "    # For each trait category, select a random trait based on the weightings \n",
    "    new_image [\"Background\"] = random.choices(background, background_weights)[0]\n",
    "    new_image [\"Body\"] = random.choices(body, body_weights)[0]\n",
    "    new_image [\"Head\"] = random.choices(head, head_weights)[0]\n",
    "    new_image [\"Face\"] = random.choices(face, face_weights)[0]\n",
    "\n",
    "    if new_image in all_images:\n",
    "        return create_new_image()\n",
    "    else:\n",
    "        return new_image\n",
    "\n",
    "\n",
    "# Generate the unique combinations based on trait weightings\n",
    "for i in range(TOTAL_IMAGES): \n",
    "\n",
    "    new_trait_image = create_new_image()\n",
    "\n",
    "    all_images.append(new_trait_image)"
   ],
   "outputs": [],
   "metadata": {}
  },
  {
   "cell_type": "code",
   "execution_count": 4,
   "source": [
    "def all_images_unique(all_images):\n",
    "    seen = list()\n",
    "    return not any(i in seen or seen.append(i) for i in all_images)\n",
    "\n",
    "print(\"Are all images unique?\", all_images_unique(all_images))"
   ],
   "outputs": [
    {
     "output_type": "stream",
     "name": "stdout",
     "text": [
      "Are all images unique? True\n"
     ]
    }
   ],
   "metadata": {}
  },
  {
   "cell_type": "code",
   "execution_count": 5,
   "source": [
    "i = 0\n",
    "for item in all_images:\n",
    "    item[\"tokenId\"] = i\n",
    "    i = i + 1"
   ],
   "outputs": [],
   "metadata": {}
  },
  {
   "cell_type": "code",
   "execution_count": 6,
   "source": [
    "print(all_images)"
   ],
   "outputs": [
    {
     "output_type": "stream",
     "name": "stdout",
     "text": [
      "[{'Background': 'Orange', 'Body': 'rhino', 'Head': 'koala', 'Face': 'monkey', 'tokenId': 0}, {'Background': 'Blue', 'Body': 'monkey', 'Head': 'koala', 'Face': 'elephant', 'tokenId': 1}, {'Background': 'Orange', 'Body': 'monkey', 'Head': 'monkey', 'Face': 'rhino', 'tokenId': 2}, {'Background': 'Orange', 'Body': 'rhino', 'Head': 'elephant', 'Face': 'giraffe', 'tokenId': 3}, {'Background': 'Blue', 'Body': 'rhino', 'Head': 'giraffe', 'Face': 'rhino', 'tokenId': 4}, {'Background': 'Orange', 'Body': 'monkey', 'Head': 'rhino', 'Face': 'elephant', 'tokenId': 5}, {'Background': 'Blue', 'Body': 'tiger', 'Head': 'giraffe', 'Face': 'rhino', 'tokenId': 6}, {'Background': 'Blue', 'Body': 'rhino', 'Head': 'koala', 'Face': 'koala', 'tokenId': 7}, {'Background': 'Orange', 'Body': 'monkey', 'Head': 'koala', 'Face': 'monkey', 'tokenId': 8}, {'Background': 'Blue', 'Body': 'monkey', 'Head': 'giraffe', 'Face': 'tiger', 'tokenId': 9}, {'Background': 'Orange', 'Body': 'monkey', 'Head': 'giraffe', 'Face': 'elephant', 'tokenId': 10}, {'Background': 'Blue', 'Body': 'koala', 'Head': 'rhino', 'Face': 'rhino', 'tokenId': 11}, {'Background': 'Orange', 'Body': 'monkey', 'Head': 'rhino', 'Face': 'tiger', 'tokenId': 12}, {'Background': 'Blue', 'Body': 'koala', 'Head': 'giraffe', 'Face': 'monkey', 'tokenId': 13}, {'Background': 'Orange', 'Body': 'monkey', 'Head': 'giraffe', 'Face': 'tiger', 'tokenId': 14}, {'Background': 'Orange', 'Body': 'giraffe', 'Head': 'rhino', 'Face': 'koala', 'tokenId': 15}, {'Background': 'Orange', 'Body': 'monkey', 'Head': 'giraffe', 'Face': 'koala', 'tokenId': 16}, {'Background': 'Blue', 'Body': 'monkey', 'Head': 'rhino', 'Face': 'elephant', 'tokenId': 17}, {'Background': 'Blue', 'Body': 'koala', 'Head': 'koala', 'Face': 'monkey', 'tokenId': 18}, {'Background': 'Orange', 'Body': 'giraffe', 'Head': 'monkey', 'Face': 'koala', 'tokenId': 19}, {'Background': 'Blue', 'Body': 'monkey', 'Head': 'koala', 'Face': 'monkey', 'tokenId': 20}, {'Background': 'Orange', 'Body': 'giraffe', 'Head': 'koala', 'Face': 'rhino', 'tokenId': 21}, {'Background': 'Blue', 'Body': 'rhino', 'Head': 'rhino', 'Face': 'rhino', 'tokenId': 22}, {'Background': 'Orange', 'Body': 'elephant', 'Head': 'elephant', 'Face': 'monkey', 'tokenId': 23}, {'Background': 'Orange', 'Body': 'monkey', 'Head': 'rhino', 'Face': 'monkey', 'tokenId': 24}, {'Background': 'Orange', 'Body': 'rhino', 'Head': 'tiger', 'Face': 'rhino', 'tokenId': 25}, {'Background': 'Orange', 'Body': 'tiger', 'Head': 'rhino', 'Face': 'rhino', 'tokenId': 26}, {'Background': 'Blue', 'Body': 'giraffe', 'Head': 'rhino', 'Face': 'elephant', 'tokenId': 27}, {'Background': 'Orange', 'Body': 'rhino', 'Head': 'giraffe', 'Face': 'rhino', 'tokenId': 28}, {'Background': 'Orange', 'Body': 'rhino', 'Head': 'rhino', 'Face': 'giraffe', 'tokenId': 29}, {'Background': 'Orange', 'Body': 'koala', 'Head': 'elephant', 'Face': 'koala', 'tokenId': 30}, {'Background': 'Orange', 'Body': 'tiger', 'Head': 'koala', 'Face': 'rhino', 'tokenId': 31}, {'Background': 'Orange', 'Body': 'monkey', 'Head': 'elephant', 'Face': 'koala', 'tokenId': 32}, {'Background': 'Orange', 'Body': 'monkey', 'Head': 'rhino', 'Face': 'rhino', 'tokenId': 33}, {'Background': 'Orange', 'Body': 'monkey', 'Head': 'giraffe', 'Face': 'rhino', 'tokenId': 34}, {'Background': 'Orange', 'Body': 'monkey', 'Head': 'koala', 'Face': 'koala', 'tokenId': 35}, {'Background': 'Orange', 'Body': 'koala', 'Head': 'giraffe', 'Face': 'giraffe', 'tokenId': 36}, {'Background': 'Blue', 'Body': 'tiger', 'Head': 'koala', 'Face': 'rhino', 'tokenId': 37}, {'Background': 'Orange', 'Body': 'tiger', 'Head': 'tiger', 'Face': 'rhino', 'tokenId': 38}, {'Background': 'Orange', 'Body': 'monkey', 'Head': 'monkey', 'Face': 'koala', 'tokenId': 39}, {'Background': 'Orange', 'Body': 'rhino', 'Head': 'giraffe', 'Face': 'tiger', 'tokenId': 40}, {'Background': 'Blue', 'Body': 'tiger', 'Head': 'elephant', 'Face': 'koala', 'tokenId': 41}, {'Background': 'Orange', 'Body': 'monkey', 'Head': 'koala', 'Face': 'tiger', 'tokenId': 42}, {'Background': 'Orange', 'Body': 'koala', 'Head': 'koala', 'Face': 'monkey', 'tokenId': 43}, {'Background': 'Blue', 'Body': 'monkey', 'Head': 'giraffe', 'Face': 'monkey', 'tokenId': 44}, {'Background': 'Orange', 'Body': 'koala', 'Head': 'elephant', 'Face': 'rhino', 'tokenId': 45}, {'Background': 'Blue', 'Body': 'rhino', 'Head': 'monkey', 'Face': 'giraffe', 'tokenId': 46}, {'Background': 'Orange', 'Body': 'monkey', 'Head': 'giraffe', 'Face': 'monkey', 'tokenId': 47}, {'Background': 'Blue', 'Body': 'giraffe', 'Head': 'giraffe', 'Face': 'tiger', 'tokenId': 48}, {'Background': 'Orange', 'Body': 'rhino', 'Head': 'koala', 'Face': 'koala', 'tokenId': 49}, {'Background': 'Orange', 'Body': 'tiger', 'Head': 'monkey', 'Face': 'elephant', 'tokenId': 50}, {'Background': 'Orange', 'Body': 'rhino', 'Head': 'elephant', 'Face': 'monkey', 'tokenId': 51}, {'Background': 'Orange', 'Body': 'monkey', 'Head': 'tiger', 'Face': 'giraffe', 'tokenId': 52}, {'Background': 'Orange', 'Body': 'rhino', 'Head': 'rhino', 'Face': 'rhino', 'tokenId': 53}, {'Background': 'Orange', 'Body': 'elephant', 'Head': 'elephant', 'Face': 'elephant', 'tokenId': 54}, {'Background': 'Blue', 'Body': 'monkey', 'Head': 'tiger', 'Face': 'rhino', 'tokenId': 55}, {'Background': 'Orange', 'Body': 'koala', 'Head': 'giraffe', 'Face': 'tiger', 'tokenId': 56}, {'Background': 'Orange', 'Body': 'tiger', 'Head': 'giraffe', 'Face': 'rhino', 'tokenId': 57}, {'Background': 'Orange', 'Body': 'monkey', 'Head': 'koala', 'Face': 'elephant', 'tokenId': 58}, {'Background': 'Orange', 'Body': 'elephant', 'Head': 'monkey', 'Face': 'rhino', 'tokenId': 59}, {'Background': 'Orange', 'Body': 'koala', 'Head': 'giraffe', 'Face': 'monkey', 'tokenId': 60}, {'Background': 'Orange', 'Body': 'koala', 'Head': 'monkey', 'Face': 'rhino', 'tokenId': 61}, {'Background': 'Blue', 'Body': 'monkey', 'Head': 'monkey', 'Face': 'rhino', 'tokenId': 62}, {'Background': 'Orange', 'Body': 'giraffe', 'Head': 'giraffe', 'Face': 'rhino', 'tokenId': 63}, {'Background': 'Orange', 'Body': 'monkey', 'Head': 'elephant', 'Face': 'tiger', 'tokenId': 64}, {'Background': 'Orange', 'Body': 'tiger', 'Head': 'elephant', 'Face': 'monkey', 'tokenId': 65}, {'Background': 'Orange', 'Body': 'tiger', 'Head': 'elephant', 'Face': 'rhino', 'tokenId': 66}, {'Background': 'Orange', 'Body': 'monkey', 'Head': 'monkey', 'Face': 'tiger', 'tokenId': 67}, {'Background': 'Orange', 'Body': 'monkey', 'Head': 'giraffe', 'Face': 'giraffe', 'tokenId': 68}, {'Background': 'Orange', 'Body': 'monkey', 'Head': 'tiger', 'Face': 'rhino', 'tokenId': 69}, {'Background': 'Orange', 'Body': 'rhino', 'Head': 'monkey', 'Face': 'rhino', 'tokenId': 70}, {'Background': 'Blue', 'Body': 'monkey', 'Head': 'giraffe', 'Face': 'koala', 'tokenId': 71}, {'Background': 'Orange', 'Body': 'koala', 'Head': 'giraffe', 'Face': 'koala', 'tokenId': 72}, {'Background': 'Blue', 'Body': 'giraffe', 'Head': 'monkey', 'Face': 'rhino', 'tokenId': 73}, {'Background': 'Blue', 'Body': 'rhino', 'Head': 'monkey', 'Face': 'koala', 'tokenId': 74}, {'Background': 'Orange', 'Body': 'elephant', 'Head': 'elephant', 'Face': 'koala', 'tokenId': 75}, {'Background': 'Orange', 'Body': 'rhino', 'Head': 'giraffe', 'Face': 'koala', 'tokenId': 76}, {'Background': 'Blue', 'Body': 'monkey', 'Head': 'rhino', 'Face': 'tiger', 'tokenId': 77}, {'Background': 'Orange', 'Body': 'elephant', 'Head': 'giraffe', 'Face': 'koala', 'tokenId': 78}, {'Background': 'Blue', 'Body': 'monkey', 'Head': 'monkey', 'Face': 'monkey', 'tokenId': 79}, {'Background': 'Orange', 'Body': 'elephant', 'Head': 'koala', 'Face': 'elephant', 'tokenId': 80}, {'Background': 'Blue', 'Body': 'koala', 'Head': 'giraffe', 'Face': 'koala', 'tokenId': 81}, {'Background': 'Blue', 'Body': 'monkey', 'Head': 'elephant', 'Face': 'elephant', 'tokenId': 82}, {'Background': 'Orange', 'Body': 'monkey', 'Head': 'tiger', 'Face': 'koala', 'tokenId': 83}, {'Background': 'Orange', 'Body': 'tiger', 'Head': 'koala', 'Face': 'tiger', 'tokenId': 84}, {'Background': 'Blue', 'Body': 'giraffe', 'Head': 'giraffe', 'Face': 'monkey', 'tokenId': 85}, {'Background': 'Orange', 'Body': 'tiger', 'Head': 'tiger', 'Face': 'koala', 'tokenId': 86}, {'Background': 'Orange', 'Body': 'tiger', 'Head': 'monkey', 'Face': 'monkey', 'tokenId': 87}, {'Background': 'Blue', 'Body': 'monkey', 'Head': 'rhino', 'Face': 'koala', 'tokenId': 88}, {'Background': 'Orange', 'Body': 'monkey', 'Head': 'elephant', 'Face': 'rhino', 'tokenId': 89}, {'Background': 'Blue', 'Body': 'rhino', 'Head': 'giraffe', 'Face': 'koala', 'tokenId': 90}, {'Background': 'Orange', 'Body': 'tiger', 'Head': 'monkey', 'Face': 'rhino', 'tokenId': 91}, {'Background': 'Blue', 'Body': 'monkey', 'Head': 'elephant', 'Face': 'tiger', 'tokenId': 92}, {'Background': 'Blue', 'Body': 'rhino', 'Head': 'koala', 'Face': 'monkey', 'tokenId': 93}, {'Background': 'Orange', 'Body': 'rhino', 'Head': 'elephant', 'Face': 'rhino', 'tokenId': 94}, {'Background': 'Blue', 'Body': 'giraffe', 'Head': 'rhino', 'Face': 'koala', 'tokenId': 95}, {'Background': 'Orange', 'Body': 'rhino', 'Head': 'monkey', 'Face': 'koala', 'tokenId': 96}, {'Background': 'Orange', 'Body': 'monkey', 'Head': 'koala', 'Face': 'rhino', 'tokenId': 97}, {'Background': 'Orange', 'Body': 'giraffe', 'Head': 'rhino', 'Face': 'elephant', 'tokenId': 98}, {'Background': 'Blue', 'Body': 'elephant', 'Head': 'giraffe', 'Face': 'rhino', 'tokenId': 99}]\n"
     ]
    }
   ],
   "metadata": {}
  },
  {
   "cell_type": "code",
   "execution_count": 7,
   "source": [
    "background_count = {}\n",
    "for item in background:\n",
    "    background_count[item] = 0\n",
    "\n",
    "body_count = {}\n",
    "for item in body:\n",
    "    body_count[item] = 0\n",
    "\n",
    "head_count = {}\n",
    "for item in head:\n",
    "    head_count[item] = 0\n",
    "    \n",
    "face_count = {}\n",
    "for item in face:\n",
    "    face_count[item] = 0\n",
    "\n",
    "for image in all_images:\n",
    "    background_count[image[\"Background\"]] += 1\n",
    "    body_count[image[\"Body\"]] += 1\n",
    "    head_count[image[\"Head\"]] += 1\n",
    "    face_count[image[\"Face\"]] += 1\n",
    "\n",
    "print(background_count)\n",
    "print(body_count)\n",
    "print(head_count)\n",
    "print(face_count)"
   ],
   "outputs": [
    {
     "output_type": "stream",
     "name": "stdout",
     "text": [
      "{'Blue': 33, 'Orange': 67}\n",
      "{'giraffe': 10, 'tiger': 14, 'monkey': 37, 'rhino': 20, 'elephant': 7, 'koala': 12}\n",
      "{'giraffe': 27, 'tiger': 7, 'monkey': 16, 'rhino': 16, 'elephant': 16, 'koala': 18}\n",
      "{'giraffe': 6, 'tiger': 12, 'monkey': 17, 'rhino': 31, 'elephant': 11, 'koala': 23}\n"
     ]
    }
   ],
   "metadata": {}
  },
  {
   "cell_type": "code",
   "execution_count": 8,
   "source": [
    "METADATA_FILE_NAME = './metadata/all-traits.json'; \n",
    "with open(METADATA_FILE_NAME, 'w') as outfile:\n",
    "    json.dump(all_images, outfile, indent=4)"
   ],
   "outputs": [],
   "metadata": {}
  },
  {
   "cell_type": "code",
   "execution_count": 9,
   "source": [
    "for item in all_images:\n",
    "\n",
    "    background = Image.open(f'./layers/backgrounds/{background_files[item[\"Background\"]]}.png').convert('RGBA')\n",
    "    im1 = Image.open(f'./layers/bodies/{body_files[item[\"Body\"]]}.png').convert('RGBA')\n",
    "    im2 = Image.open(f'./layers/heads/{head_files[item[\"Head\"]]}.png').convert('RGBA')\n",
    "    im3 = Image.open(f'./layers/faces/{face_files[item[\"Face\"]]}.png').convert('RGBA')\n",
    "\n",
    "    #Create each composite\n",
    "    \n",
    "    # Calculate width to be at the center\n",
    "    width = (background.width - im1.width) // 2\n",
    "    # Calculate height to be at the center\n",
    "    height = (background.height - im1.height) // 2\n",
    "    \n",
    "    im1.paste(im2, (width, height), im2)\n",
    "    im1.paste(im3, (width, height), im3)\n",
    "    \n",
    "    background.paste(im1, (width, height), im1)\n",
    "\n",
    "    #Convert to RGB\n",
    "    rgb_im = background.convert('RGB')\n",
    "    file_name = str(item[\"tokenId\"]) + \".png\"\n",
    "    rgb_im.save(\"./images/\" + file_name)"
   ],
   "outputs": [],
   "metadata": {}
  },
  {
   "cell_type": "code",
   "execution_count": 10,
   "source": [
    "f = open('./metadata/all-traits.json',) \n",
    "data = json.load(f)\n",
    "\n",
    "IMAGES_BASE_URI = \"ADD_IMAGES_BASE_URI_HERE\"\n",
    "PROJECT_NAME = \"ADD_PROJECT_NAME_HERE\"\n",
    "\n",
    "def getAttribute(key, value):\n",
    "    return {\n",
    "        \"trait_type\": key,\n",
    "        \"value\": value\n",
    "    }\n",
    "for i in data:\n",
    "    token_id = i['tokenId']\n",
    "    token = {\n",
    "        \"image\": IMAGES_BASE_URI + str(token_id) + '.png',\n",
    "        \"tokenId\": token_id,\n",
    "        \"name\": PROJECT_NAME + ' ' + str(token_id),\n",
    "        \"attributes\": []\n",
    "    }\n",
    "    token[\"attributes\"].append(getAttribute(\"Background\", i[\"Background\"]))\n",
    "    token[\"attributes\"].append(getAttribute(\"Body\", i[\"Body\"]))\n",
    "    token[\"attributes\"].append(getAttribute(\"Head\", i[\"Head\"]))\n",
    "    token[\"attributes\"].append(getAttribute(\"Face\", i[\"Face\"]))\n",
    "\n",
    "    with open('./metadata/' + str(token_id), 'w') as outfile:\n",
    "        json.dump(token, outfile, indent=4)\n",
    "f.close()"
   ],
   "outputs": [],
   "metadata": {}
  }
 ],
 "metadata": {
  "kernelspec": {
   "display_name": "Python 3 (ipykernel)",
   "language": "python",
   "name": "python3"
  },
  "language_info": {
   "codemirror_mode": {
    "name": "ipython",
    "version": 3
   },
   "file_extension": ".py",
   "mimetype": "text/x-python",
   "name": "python",
   "nbconvert_exporter": "python",
   "pygments_lexer": "ipython3",
   "version": "3.8.5"
  }
 },
 "nbformat": 4,
 "nbformat_minor": 5
}